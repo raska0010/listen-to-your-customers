{
 "cells": [
  {
   "cell_type": "code",
   "execution_count": 1,
   "metadata": {},
   "outputs": [
    {
     "name": "stdout",
     "output_type": "stream",
     "text": [
      "Note: you may need to restart the kernel to use updated packages.\n"
     ]
    }
   ],
   "source": [
    "### run when it starts\n",
    "pip install -q transformers"
   ]
  },
  {
   "cell_type": "code",
   "execution_count": 8,
   "metadata": {},
   "outputs": [],
   "source": [
    "from transformers import pipeline\n",
    "import pandas as pd\n",
    "import sqlalchemy\n",
    "from dotenv import dotenv_values\n",
    "from dotenv import load_dotenv\n",
    "import sql_functions as sf\n",
    "from sql_functions import get_sql_config, get_data, get_dataframe, get_engine"
   ]
  },
  {
   "cell_type": "code",
   "execution_count": null,
   "metadata": {},
   "outputs": [],
   "source": [
    "### need tensorflow > check if its latest\n",
    "pip install --upgrade tensorflow"
   ]
  },
  {
   "cell_type": "code",
   "execution_count": 4,
   "metadata": {},
   "outputs": [
    {
     "name": "stdout",
     "output_type": "stream",
     "text": [
      "tf.Tensor(-699.3589, shape=(), dtype=float32)\n"
     ]
    }
   ],
   "source": [
    "import tensorflow as tf\n",
    "print(tf.reduce_sum(tf.random.normal([1000, 1000])))"
   ]
  },
  {
   "cell_type": "markdown",
   "metadata": {},
   "source": [
    "### 1. Sentiment Analysis"
   ]
  },
  {
   "cell_type": "markdown",
   "metadata": {},
   "source": [
    "We tested several models for doing sentiment analysis of the Yelp reviews, in the end we decided to move forward with the one pipeline below. "
   ]
  },
  {
   "cell_type": "code",
   "execution_count": 6,
   "metadata": {},
   "outputs": [],
   "source": [
    "#  select the pipeline: https://huggingface.co/mrcaelumn/yelp_restaurant_review_sentiment_analysis\n",
    "\n",
    "sentiment_pipeline = pipeline(model=\"mrcaelumn/yelp_restaurant_review_sentiment_analysis\")"
   ]
  },
  {
   "cell_type": "code",
   "execution_count": null,
   "metadata": {},
   "outputs": [],
   "source": [
    "# query the original review data from server\n",
    "review_pa = sf.get_dataframe('SELECT * FROM hh_analytics_23_3.yelp_review_pa') \n",
    "\n",
    "# 4 columns in the result df\n",
    "sentiment_result = pd.DataFrame(columns=['business_id', 'review_id', 'text', 'result'])\n",
    "\n",
    "# loop each row(review)\n",
    "for index, row in review_pa.iterrows():\n",
    "    try:\n",
    "        # get each review info\n",
    "        review_id = row['review_id']\n",
    "        business_id = row['business_id']\n",
    "        text = row['text']\n",
    "\n",
    "        # processing by the model\n",
    "        result = sentiment_pipeline(text)\n",
    "\n",
    "        row_result = pd.DataFrame({\n",
    "            'business_id': [business_id],\n",
    "            'review_id': [review_id],\n",
    "            'text': [text],\n",
    "            'result': [result],\n",
    "        })\n",
    "\n",
    "        sentiment_result = pd.concat([sentiment_result, row_result], ignore_index=True)\n",
    "# the model can not processing long text (dont know how long), but this will skip the error\n",
    "    except Exception as e:\n",
    "        \n",
    "        print(f\"Error processing text: {text}. Error: {e}\")\n",
    "        continue\n",
    "\n",
    "# write the result in the csv locally\n",
    "sentiment_result.to_csv('review_pa_sentiment.csv', index=False)\n"
   ]
  }
 ],
 "metadata": {
  "kernelspec": {
   "display_name": "nf_sql",
   "language": "python",
   "name": "python3"
  },
  "language_info": {
   "codemirror_mode": {
    "name": "ipython",
    "version": 3
   },
   "file_extension": ".py",
   "mimetype": "text/x-python",
   "name": "python",
   "nbconvert_exporter": "python",
   "pygments_lexer": "ipython3",
   "version": "3.10.12"
  },
  "orig_nbformat": 4
 },
 "nbformat": 4,
 "nbformat_minor": 2
}
