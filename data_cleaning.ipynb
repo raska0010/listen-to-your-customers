{
 "cells": [
  {
   "cell_type": "markdown",
   "metadata": {},
   "source": [
    "# Data cleaning"
   ]
  },
  {
   "cell_type": "markdown",
   "metadata": {},
   "source": [
    "### Where does the dataset come from? Download from yelp.com"
   ]
  },
  {
   "cell_type": "markdown",
   "metadata": {},
   "source": [
    "### Businesses"
   ]
  },
  {
   "cell_type": "code",
   "execution_count": 91,
   "metadata": {},
   "outputs": [],
   "source": [
    "import pandas as pd\n",
    "import json"
   ]
  },
  {
   "cell_type": "code",
   "execution_count": 92,
   "metadata": {},
   "outputs": [],
   "source": [
    "#\n",
    "\n",
    "data = []\n",
    "\n",
    "with open('data/yelp_academic_dataset_business.json') as f:\n",
    "\n",
    "    for line in f:\n",
    "        \n",
    "        #Parse the JSON data\n",
    "        json_dict = json.loads(line)\n",
    "\n",
    "        if json_dict['attributes']:\n",
    "            if 'BusinessParking' in json_dict['attributes'].keys():\n",
    "\n",
    "                json_dict['attributes']['BusinessParking'] = eval(json_dict['attributes']['BusinessParking'])\n",
    "\n",
    "        data.append(json_dict)"
   ]
  },
  {
   "cell_type": "code",
   "execution_count": 93,
   "metadata": {},
   "outputs": [],
   "source": [
    "businesses = pd.json_normalize(data)"
   ]
  },
  {
   "cell_type": "code",
   "execution_count": 94,
   "metadata": {},
   "outputs": [],
   "source": [
    "businesses.drop(\n",
    "  [\n",
    "    'attributes',\n",
    "    'attributes.HairSpecializesIn',\n",
    "    'attributes.RestaurantsCounterService',\n",
    "    'attributes.Open24Hours',\n",
    "    'attributes.DietaryRestrictions',\n",
    "    'attributes.AcceptsInsurance',\n",
    "    'attributes.AgesAllowed',\n",
    "    'attributes.BYOBCorkage',\n",
    "    'attributes.Corkage',\n",
    "    'attributes.Smoking',\n",
    "    'attributes.BYOB',\n",
    "    'attributes.GoodForDancing',\n",
    "    'attributes.CoatCheck',\n",
    "    'attributes.ByAppointmentOnly',\n",
    "    'attributes.BestNights',\n",
    "    'attributes.Music',\n",
    "    'attributes.DriveThru',\n",
    "    'attributes.BusinessAcceptsBitcoin',\n",
    "    'attributes.DogsAllowed',\n",
    "    'attributes.HappyHour',\n",
    "    'attributes.WheelchairAccessible',\n",
    "    'attributes.GoodForMeal',\n",
    "    'attributes.Ambience',\n",
    "    'attributes.BusinessParking',\n",
    "    'address',\n",
    "    'postal_code',\n",
    "    'hours',\n",
    "    'is_open',\n",
    "    'hours.Tuesday',\n",
    "    'hours.Wednesday',\n",
    "    'hours.Thursday',\n",
    "    'hours.Friday',\n",
    "    'hours.Saturday',\n",
    "    'hours.Sunday'\n",
    "  ],\n",
    "  axis=1, errors='ignore', inplace=True\n",
    ")"
   ]
  },
  {
   "cell_type": "code",
   "execution_count": 95,
   "metadata": {},
   "outputs": [],
   "source": [
    "businesses.rename(\n",
    "    columns={\n",
    "        'attributes.BusinessAcceptsCreditCards': 'accepts_credit_cards',\n",
    "        'attributes.RestaurantsPriceRange2':'price_range',\n",
    "        'attributes.RestaurantsTakeOut':'take_out',\n",
    "        'attributes.RestaurantsDelivery':'delivery',\n",
    "        'attributes.BusinessParking.garage':'parking_garage',\n",
    "        'attributes.BusinessParking.street':'parking_street',\n",
    "        'attributes.BusinessParking.validated':'parking_validated',\n",
    "        'attributes.BusinessParking.lot':'parking_lot',\n",
    "        'attributes.BusinessParking.valet':'parking_valet',\n",
    "        'attributes.OutdoorSeating':'outdoor_seating',\n",
    "        'attributes.RestaurantsReservations':'seats_reservations',\n",
    "        'attributes.Alcohol':'alcohol',\n",
    "        'attributes.Ambience':'ambience',\n",
    "        'attributes.RestaurantsTableService':'table_service',\n",
    "        'attributes.RestaurantsGoodForGroups':'for_groups',\n",
    "        'attributes.DriveThru':'drive_thru',\n",
    "        'attributes.Open24Hours':'open_24_hours',\n",
    "        'attributes.RestaurantsCounterService':'counter_service',\n",
    "        'attributes.NoiseLevel': 'noise_level',\n",
    "        'attributes.GoodForKids' : 'good_for_kids',\n",
    "        'attributes.RestaurantsAttire': 'attire',\n",
    "        'attributes.WiFi': 'wifi',\n",
    "        'attributes.HasTV': 'tv',\n",
    "        'attributes.Caters': 'caters',\n",
    "        'attributes.BikeParking': 'bike_parking'\n",
    "    },\n",
    "    inplace=True\n",
    ")"
   ]
  },
  {
   "cell_type": "code",
   "execution_count": 96,
   "metadata": {},
   "outputs": [],
   "source": [
    "businesses['alcohol'] = businesses['alcohol'].str.replace(\"u'\", \"\").str.replace(\"'\", \"\")\n",
    "businesses['noise_level'] = businesses['noise_level'].str.replace(\"u'\", \"\").str.replace(\"'\", \"\")\n",
    "businesses['attire'] = businesses['attire'].str.replace(\"u'\", \"\").str.replace(\"'\", \"\")\n",
    "businesses['wifi'] = businesses['wifi'].str.replace(\"u'\", \"\").str.replace(\"'\", \"\")"
   ]
  },
  {
   "cell_type": "code",
   "execution_count": 97,
   "metadata": {},
   "outputs": [],
   "source": [
    "import numpy as np"
   ]
  },
  {
   "cell_type": "code",
   "execution_count": 98,
   "metadata": {},
   "outputs": [],
   "source": [
    "def parking_check(row):\n",
    "    if row['parking_garage'] == True or row['parking_street'] == True or row['parking_validated'] == True or row['parking_lot'] == True or row['parking_valet'] == True:\n",
    "        return 'True'\n",
    "    if row['parking_garage'] == False or row['parking_street'] == False or row['parking_validated'] == False or row['parking_lot'] == False or row['parking_valet'] == False:\n",
    "        return 'False'\n",
    "    else:\n",
    "        return np.nan"
   ]
  },
  {
   "cell_type": "code",
   "execution_count": 99,
   "metadata": {},
   "outputs": [],
   "source": [
    "businesses['parking_available'] = businesses.apply(parking_check, axis=1)"
   ]
  },
  {
   "cell_type": "code",
   "execution_count": 100,
   "metadata": {},
   "outputs": [],
   "source": [
    "businesses.drop(['parking_garage', 'parking_street','parking_validated','parking_lot','parking_valet'], axis=1, inplace=True)"
   ]
  },
  {
   "cell_type": "markdown",
   "metadata": {},
   "source": [
    "### We have created a table with all businesses and the attributes we want to have a look at"
   ]
  },
  {
   "cell_type": "markdown",
   "metadata": {},
   "source": [
    "### Businesses in Pennsylvania"
   ]
  },
  {
   "cell_type": "code",
   "execution_count": 101,
   "metadata": {},
   "outputs": [],
   "source": [
    "pennsylvania = businesses[businesses['state'] == 'PA']"
   ]
  },
  {
   "cell_type": "markdown",
   "metadata": {},
   "source": [
    "### Restaurants in Pennsylvania"
   ]
  },
  {
   "cell_type": "code",
   "execution_count": 102,
   "metadata": {},
   "outputs": [
    {
     "name": "stderr",
     "output_type": "stream",
     "text": [
      "/var/folders/5t/qp4h49ss46q2tzmcdgn4clc40000gn/T/ipykernel_2501/1404309592.py:1: SettingWithCopyWarning: \n",
      "A value is trying to be set on a copy of a slice from a DataFrame\n",
      "\n",
      "See the caveats in the documentation: https://pandas.pydata.org/pandas-docs/stable/user_guide/indexing.html#returning-a-view-versus-a-copy\n",
      "  pennsylvania.dropna(subset='categories', inplace=True)\n"
     ]
    }
   ],
   "source": [
    "pennsylvania.dropna(subset='categories', inplace=True)\n",
    "pennsylvania.reset_index(drop=True, inplace=True)"
   ]
  },
  {
   "cell_type": "code",
   "execution_count": 108,
   "metadata": {},
   "outputs": [],
   "source": [
    "categories =[\n",
    "    'Coffee & Tea',\n",
    "    'Bistros',\n",
    "    'Breakfast & Brunch',\n",
    "    'Cafes',\n",
    "    'French',\n",
    "    'Greek',\n",
    "    'Italian',\n",
    "    'Mexican',\n",
    "    'Tacos',\n",
    "    'Egyptian',\n",
    "    'Pizza',\n",
    "    'Soup',\n",
    "    'Sushi Bars',\n",
    "    'Vegetarian',\n",
    "    'Waffles',\n",
    "    'Food',\n",
    "    'Restaurants',\n",
    "    'Bars'\n",
    "]\n",
    "\n",
    "restaurants = pd.DataFrame()\n",
    "\n",
    "for index, item in pennsylvania['categories'].items():\n",
    "\n",
    "    for category in categories:\n",
    "        if category in item:\n",
    "            restaurants = pd.concat([restaurants, pennsylvania[index:index+1]])\n",
    "            break"
   ]
  },
  {
   "cell_type": "code",
   "execution_count": 105,
   "metadata": {},
   "outputs": [],
   "source": [
    "with open('data/restaurants_pennsylvania.csv', 'w') as f:\n",
    "    restaurants.to_csv(f, mode='a', header=True, index=False)"
   ]
  },
  {
   "cell_type": "markdown",
   "metadata": {},
   "source": [
    "### We have created a table with all restaurants in Pennsylvania and saved it in a .csv for later analysis"
   ]
  },
  {
   "cell_type": "markdown",
   "metadata": {},
   "source": [
    "### Now we load the table with all reviews and create a .csv which only contains reviews from restaurants in Pennsylvania"
   ]
  },
  {
   "cell_type": "code",
   "execution_count": 106,
   "metadata": {},
   "outputs": [],
   "source": [
    "businesses_ids = restaurants['business_id'].to_list()\n",
    "\n",
    "column_names = ['review_id', 'user_id', 'business_id', 'stars', 'useful', 'funny', 'cool', 'text', 'date']\n",
    "\n",
    "chunks = pd.read_json('data/yelp_academic_dataset_review.json', lines=True, chunksize=100000)\n",
    "\n",
    "with open('data/reviews_pennsylvania.csv', 'w') as f:\n",
    "    header = ','.join(column_names)\n",
    "    f.write(header + '\\n')\n",
    "\n",
    "    for chunk in chunks:\n",
    "        reviews = pd.DataFrame(chunk)\n",
    "        \n",
    "        reviews[reviews['business_id'].isin(businesses_ids)].to_csv(f, mode='a', header=False, index=False)"
   ]
  }
 ],
 "metadata": {
  "kernelspec": {
   "display_name": "nf_sql",
   "language": "python",
   "name": "python3"
  },
  "language_info": {
   "codemirror_mode": {
    "name": "ipython",
    "version": 3
   },
   "file_extension": ".py",
   "mimetype": "text/x-python",
   "name": "python",
   "nbconvert_exporter": "python",
   "pygments_lexer": "ipython3",
   "version": "3.9.17"
  }
 },
 "nbformat": 4,
 "nbformat_minor": 2
}
